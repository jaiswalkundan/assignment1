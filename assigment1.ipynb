{
 "cells": [
  {
   "cell_type": "markdown",
   "id": "8b7d129b-3dc4-46c8-84b0-1c93d4063f13",
   "metadata": {},
   "source": [
    " Ques:3 Explain the use of the following operators using an example"
   ]
  },
  {
   "cell_type": "markdown",
   "id": "89f42322-a558-4e45-ab08-e3ef0d890ff0",
   "metadata": {},
   "source": [
    "Division(/):10/2=5, as 10 divided by 2 equals 5\n"
   ]
  },
  {
   "cell_type": "markdown",
   "id": "090d313f-ce61-4147-8a70-d2b89a4a8906",
   "metadata": {},
   "source": [
    "Modulus(%)"
   ]
  },
  {
   "cell_type": "code",
   "execution_count": 2,
   "id": "2169ee6d-3408-41f5-9fcb-55ff36f3e5e3",
   "metadata": {},
   "outputs": [
    {
     "data": {
      "text/plain": [
       "1"
      ]
     },
     "execution_count": 2,
     "metadata": {},
     "output_type": "execute_result"
    }
   ],
   "source": [
    "10%3"
   ]
  },
  {
   "cell_type": "markdown",
   "id": "46a7d688-bee0-4565-ac14-04530437f043",
   "metadata": {},
   "source": [
    "Floor Division(//)"
   ]
  },
  {
   "cell_type": "code",
   "execution_count": 3,
   "id": "a2956190-85dc-4f04-adf1-d8192dce798b",
   "metadata": {},
   "outputs": [
    {
     "data": {
      "text/plain": [
       "3"
      ]
     },
     "execution_count": 3,
     "metadata": {},
     "output_type": "execute_result"
    }
   ],
   "source": [
    "10//3"
   ]
  },
  {
   "cell_type": "markdown",
   "id": "b9cb7af3-3440-4c53-b293-96defe79ff80",
   "metadata": {},
   "source": [
    "Exponentiation():**"
   ]
  },
  {
   "cell_type": "code",
   "execution_count": 5,
   "id": "e91d55d4-c332-4b51-ba11-f9a17cffdff2",
   "metadata": {},
   "outputs": [
    {
     "data": {
      "text/plain": [
       "8"
      ]
     },
     "execution_count": 5,
     "metadata": {},
     "output_type": "execute_result"
    }
   ],
   "source": [
    "2**3"
   ]
  },
  {
   "cell_type": "markdown",
   "id": "3371304f-be01-4abf-91bd-b8000cffb43a",
   "metadata": {},
   "source": [
    "Q.1 Create one variable containg follwing type of data"
   ]
  },
  {
   "cell_type": "markdown",
   "id": "aa6868eb-b9c8-455a-816b-b6050bb32829",
   "metadata": {},
   "source": [
    "ans 1.string"
   ]
  },
  {
   "cell_type": "markdown",
   "id": "9b4604a4-ca70-4ada-aaba-9da4071a6921",
   "metadata": {},
   "source": [
    "ans 2"
   ]
  },
  {
   "cell_type": "markdown",
   "id": "cdb70adb-fc9d-47bb-98b5-3aba4f10b4aa",
   "metadata": {},
   "source": [
    "var1=' ' it is string no characters,so its data type str (string)"
   ]
  },
  {
   "cell_type": "code",
   "execution_count": null,
   "id": "caf53ceb-036b-4b60-becb-584bdf048fc7",
   "metadata": {},
   "outputs": [],
   "source": [
    "var2='[DS,ML,Python]' it is a string contanining charaters, so its data type is also 'str'string"
   ]
  },
  {
   "cell_type": "code",
   "execution_count": null,
   "id": "06cf7019-e337-4cf5-9c06-f54029371c23",
   "metadata": {},
   "outputs": [],
   "source": [
    "var3=['DS', 'ML', 'python'] it is a list containing string , so its data type is list"
   ]
  },
  {
   "cell_type": "markdown",
   "id": "5cc4b3a6-45d6-45be-af52-016da8da56e5",
   "metadata": {},
   "source": [
    "var4=1, it is integer so its data type is 'int'(integer)"
   ]
  },
  {
   "cell_type": "markdown",
   "id": "1d1308d1-9a58-4988-a242-413f43bf5c99",
   "metadata": {},
   "source": [
    "Ques 4 create a list of length 10 of your choice containing multiple types of data.Using for loop print the element and its data type."
   ]
  },
  {
   "cell_type": "code",
   "execution_count": 10,
   "id": "c11a5a6a-dfe7-47f5-a782-27cd78901a5b",
   "metadata": {},
   "outputs": [],
   "source": [
    "my_list=[42,'hello', 3.14, True,[1,2,3], {'key':'value'}, None, (4,5), \"word\", False]\n"
   ]
  },
  {
   "cell_type": "code",
   "execution_count": 11,
   "id": "43a50ab4-b940-4006-9b69-67b8370a3ee0",
   "metadata": {},
   "outputs": [
    {
     "name": "stdout",
     "output_type": "stream",
     "text": [
      "Element:42,Data Type :<class 'int'>\n",
      "Element:hello,Data Type :<class 'str'>\n",
      "Element:3.14,Data Type :<class 'float'>\n",
      "Element:True,Data Type :<class 'bool'>\n",
      "Element:[1, 2, 3],Data Type :<class 'list'>\n",
      "Element:{'key': 'value'},Data Type :<class 'dict'>\n",
      "Element:None,Data Type :<class 'NoneType'>\n",
      "Element:(4, 5),Data Type :<class 'tuple'>\n",
      "Element:word,Data Type :<class 'str'>\n",
      "Element:False,Data Type :<class 'bool'>\n"
     ]
    }
   ],
   "source": [
    "for element in my_list:\n",
    "    print(f\"Element:{element},Data Type :{type(element)}\")\n",
    "    "
   ]
  },
  {
   "cell_type": "markdown",
   "id": "3a825088-02f8-4f92-bda6-c392360d2cc6",
   "metadata": {},
   "source": [
    "Q.5 using a while loop verify if the number A is purely divisible by number B and if so then how many times it can be divisible."
   ]
  },
  {
   "cell_type": "code",
   "execution_count": 15,
   "id": "d2e09f33-e922-44b1-ac52-da270cb2b83d",
   "metadata": {},
   "outputs": [
    {
     "name": "stdout",
     "output_type": "stream",
     "text": [
      "8.0 is not purely divisible by 3.\n"
     ]
    }
   ],
   "source": [
    "A=24\n",
    "B=3\n",
    "count=0\n",
    "while A % B ==0:\n",
    "    A=A/B\n",
    "    count +=1\n",
    "if A==1:\n",
    "    print(f\"{A} is purely divisibleby {B},and it can be divided {count} times.\")\n",
    "else:\n",
    "    print(f\"{A} is not purely divisible by {B}.\")"
   ]
  },
  {
   "cell_type": "markdown",
   "id": "7a495bec-bb23-4132-a9a5-b1c600e5cdaa",
   "metadata": {},
   "source": [
    "Q.6 creat a list containing 25 int type data using for loop and if else condition print if the element is divisible by 3 or not"
   ]
  },
  {
   "cell_type": "code",
   "execution_count": 16,
   "id": "026c8e6d-9d58-4efb-9396-784507335ca3",
   "metadata": {},
   "outputs": [
    {
     "name": "stdout",
     "output_type": "stream",
     "text": [
      "1 is not divisible by 3.\n",
      "2 is not divisible by 3.\n",
      "3 is divisible by 3.\n",
      "4 is not divisible by 3.\n",
      "5 is not divisible by 3.\n",
      "6 is divisible by 3.\n",
      "7 is not divisible by 3.\n",
      "8 is not divisible by 3.\n",
      "9 is divisible by 3.\n",
      "10 is not divisible by 3.\n",
      "11 is not divisible by 3.\n",
      "12 is divisible by 3.\n",
      "13 is not divisible by 3.\n",
      "14 is not divisible by 3.\n",
      "15 is divisible by 3.\n",
      "16 is not divisible by 3.\n",
      "17 is not divisible by 3.\n",
      "18 is divisible by 3.\n",
      "19 is not divisible by 3.\n",
      "20 is not divisible by 3.\n",
      "21 is divisible by 3.\n",
      "22 is not divisible by 3.\n",
      "23 is not divisible by 3.\n",
      "24 is divisible by 3.\n",
      "25 is not divisible by 3.\n"
     ]
    }
   ],
   "source": [
    "my_list=[i for i in range(1,26)]\n",
    "for element in my_list:\n",
    "    if element % 3==0:\n",
    "        print(f\"{element} is divisible by 3.\")\n",
    "    else:\n",
    "        print(f\"{element} is not divisible by 3.\")"
   ]
  },
  {
   "cell_type": "markdown",
   "id": "e9f8da6e-95d2-4ee8-b262-219d094d1b42",
   "metadata": {},
   "source": [
    "Q.7 what do you understand about mutable and immutable data type? Give example for both showing this property."
   ]
  },
  {
   "cell_type": "markdown",
   "id": "811fdca3-4c4c-47df-b1dd-0769ff118718",
   "metadata": {},
   "source": [
    "Mutable=Objects of mutable data type can be modifided after creation example"
   ]
  },
  {
   "cell_type": "code",
   "execution_count": 17,
   "id": "821b4954-1e4c-44ee-9c33-75bf6022d08e",
   "metadata": {},
   "outputs": [
    {
     "name": "stdout",
     "output_type": "stream",
     "text": [
      "Original List: [1, 2, 3]\n"
     ]
    }
   ],
   "source": [
    "mutable_list =[1,2,3]\n",
    "print(\"Original List:\", mutable_list)\n"
   ]
  },
  {
   "cell_type": "code",
   "execution_count": 18,
   "id": "a9d84d45-8819-4bc5-9459-ac278860ddc1",
   "metadata": {},
   "outputs": [
    {
     "name": "stdout",
     "output_type": "stream",
     "text": [
      "Modified List: [99, 2, 3]\n"
     ]
    }
   ],
   "source": [
    "mutable_list[0]=99\n",
    "print(\"Modified List:\",mutable_list)"
   ]
  },
  {
   "cell_type": "markdown",
   "id": "38c7d8fa-d5a2-4bc9-8312-4810d458b42e",
   "metadata": {},
   "source": [
    "Immutable Data type:Objectes of immutable data type cannot be modified after creation. example"
   ]
  },
  {
   "cell_type": "code",
   "execution_count": 20,
   "id": "fca7a293-89f6-4188-8889-6563cfd1ab2d",
   "metadata": {},
   "outputs": [],
   "source": [
    "immutable_string=\"Hello\""
   ]
  },
  {
   "cell_type": "code",
   "execution_count": 21,
   "id": "0cde195f-f7ec-40b3-b7c8-7e3309bee2da",
   "metadata": {},
   "outputs": [
    {
     "name": "stdout",
     "output_type": "stream",
     "text": [
      "original string: Hello\n"
     ]
    }
   ],
   "source": [
    "print(\"original string:\",immutable_string)"
   ]
  },
  {
   "cell_type": "code",
   "execution_count": 22,
   "id": "bb13d28d-cc04-4033-9b74-e2e721188e6f",
   "metadata": {},
   "outputs": [],
   "source": [
    "immutable_string += \",World!\"\n"
   ]
  },
  {
   "cell_type": "code",
   "execution_count": 23,
   "id": "6a6c2660-36af-4286-ab37-d8d036bc2dbc",
   "metadata": {},
   "outputs": [
    {
     "name": "stdout",
     "output_type": "stream",
     "text": [
      "modified string: Hello,World!\n"
     ]
    }
   ],
   "source": [
    "print(\"modified string:\",immutable_string)"
   ]
  },
  {
   "cell_type": "code",
   "execution_count": null,
   "id": "8869bccf-cad2-4280-af8a-71d0bd851a58",
   "metadata": {},
   "outputs": [],
   "source": []
  }
 ],
 "metadata": {
  "kernelspec": {
   "display_name": "Python 3 (ipykernel)",
   "language": "python",
   "name": "python3"
  },
  "language_info": {
   "codemirror_mode": {
    "name": "ipython",
    "version": 3
   },
   "file_extension": ".py",
   "mimetype": "text/x-python",
   "name": "python",
   "nbconvert_exporter": "python",
   "pygments_lexer": "ipython3",
   "version": "3.10.8"
  }
 },
 "nbformat": 4,
 "nbformat_minor": 5
}
